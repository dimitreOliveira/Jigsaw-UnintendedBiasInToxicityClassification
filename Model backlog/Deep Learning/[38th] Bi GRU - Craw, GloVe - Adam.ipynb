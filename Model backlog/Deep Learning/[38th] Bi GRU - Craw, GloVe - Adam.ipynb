{
 "cells": [
  {
   "cell_type": "markdown",
   "metadata": {},
   "source": [
    "# Dependencies"
   ]
  },
  {
   "cell_type": "code",
   "execution_count": 1,
   "metadata": {
    "_cell_guid": "b1076dfc-b9ad-4769-8c92-a6c4dae69d19",
    "_kg_hide-input": true,
    "_kg_hide-output": true,
    "_uuid": "8f2839f25d086af736a60e9eeb907d3b93b6e0e5"
   },
   "outputs": [
    {
     "name": "stderr",
     "output_type": "stream",
     "text": [
      "Using TensorFlow backend.\n"
     ]
    }
   ],
   "source": [
    "import gc\n",
    "import os\n",
    "import random\n",
    "import warnings\n",
    "import numpy as np\n",
    "import pandas as pd\n",
    "import seaborn as sns\n",
    "import matplotlib.pyplot as plt\n",
    "from gensim.models import KeyedVectors\n",
    "from sklearn import metrics\n",
    "from sklearn.model_selection import train_test_split\n",
    "from keras import optimizers\n",
    "from keras.models import Model\n",
    "from keras.callbacks import EarlyStopping, ReduceLROnPlateau, LearningRateScheduler\n",
    "from keras.preprocessing.text import Tokenizer\n",
    "from keras.preprocessing.sequence import pad_sequences\n",
    "from keras.layers import Dense, Input, Embedding, Dropout, Activation, CuDNNGRU, Conv1D, Bidirectional, GlobalMaxPool1D, GlobalAveragePooling1D, SpatialDropout1D\n",
    "\n",
    "# Set seeds to make the experiment more reproducible.\n",
    "from tensorflow import set_random_seed\n",
    "def seed_everything(seed=0):\n",
    "    random.seed(seed)\n",
    "    os.environ['PYTHONHASHSEED'] = str(seed)\n",
    "    np.random.seed(seed)\n",
    "    set_random_seed(0)\n",
    "seed_everything()\n",
    "\n",
    "%matplotlib inline\n",
    "sns.set_style(\"whitegrid\")\n",
    "pd.set_option('display.float_format', lambda x: '%.4f' % x)\n",
    "warnings.filterwarnings(\"ignore\")"
   ]
  },
  {
   "cell_type": "code",
   "execution_count": 2,
   "metadata": {
    "_cell_guid": "79c7e3d0-c299-4dcb-8224-4455121ee9b0",
    "_kg_hide-input": true,
    "_uuid": "d629ff2d2480ee46fbb7e2d37f6b5fab8052498a"
   },
   "outputs": [
    {
     "name": "stdout",
     "output_type": "stream",
     "text": [
      "Train shape :  (1804874, 45)\n",
      "Test shape :  (97320, 2)\n"
     ]
    }
   ],
   "source": [
    "train = pd.read_csv(\"../input/jigsaw-unintended-bias-in-toxicity-classification/train.csv\")\n",
    "test = pd.read_csv(\"../input/jigsaw-unintended-bias-in-toxicity-classification/test.csv\")\n",
    "print(\"Train shape : \", train.shape)\n",
    "print(\"Test shape : \", test.shape)"
   ]
  },
  {
   "cell_type": "markdown",
   "metadata": {},
   "source": [
    "# Preprocess"
   ]
  },
  {
   "cell_type": "code",
   "execution_count": 3,
   "metadata": {
    "_kg_hide-input": true
   },
   "outputs": [],
   "source": [
    "train['target'] = np.where(train['target'] >= 0.5, 1, 0)\n",
    "train['comment_text'] = train['comment_text'].astype(str)\n",
    "X_test = test['comment_text'].astype(str)"
   ]
  },
  {
   "cell_type": "code",
   "execution_count": 4,
   "metadata": {
    "_kg_hide-input": true,
    "_kg_hide-output": true
   },
   "outputs": [],
   "source": [
    "# Lower comments\n",
    "train['comment_text'] = train['comment_text'].apply(lambda x: x.lower())\n",
    "X_test = X_test.apply(lambda x: x.lower())"
   ]
  },
  {
   "cell_type": "code",
   "execution_count": 5,
   "metadata": {
    "_kg_hide-input": true,
    "_kg_hide-output": true
   },
   "outputs": [],
   "source": [
    "# Mapping Punctuation\n",
    "def map_punctuation(data):\n",
    "    punct_mapping = {\"_\":\" \", \"`\":\" \",   \n",
    "                     \"‘\": \"'\", \"₹\": \"e\", \"´\": \"'\", \"°\": \"\", \"€\": \"e\", \"™\": \"tm\", \"√\": \" sqrt \", \"×\": \"x\", \"²\": \"2\", \"—\": \"-\", \"–\": \"-\", \n",
    "                     \"’\": \"'\", \"_\": \"-\", \"`\": \"'\", '“': '\"', '”': '\"', '“': '\"', \"£\": \"e\", '∞': 'infinity', 'θ': 'theta', '÷': '/', \n",
    "                     'α': 'alpha', '•': '.', 'à': 'a', '−': '-', 'β': 'beta', '∅': '', '³': '3', 'π': 'pi'}\n",
    "    def clean_special_chars(text, mapping):\n",
    "        for p in mapping:\n",
    "            text = text.replace(p, mapping[p])  \n",
    "        return text\n",
    "\n",
    "    return data.apply(lambda x: clean_special_chars(x, punct_mapping))\n",
    "\n",
    "train['comment_text'] = map_punctuation(train['comment_text'])\n",
    "X_test = map_punctuation(X_test)"
   ]
  },
  {
   "cell_type": "code",
   "execution_count": 6,
   "metadata": {
    "_kg_hide-input": true,
    "_kg_hide-output": true
   },
   "outputs": [],
   "source": [
    "# Removing Punctuation\n",
    "def remove_punctuation(data):\n",
    "    punct = \"/-'?!.,#$%\\'()*+-/:;<=>@[\\\\]^_`{|}~`\" + '\"\"“”’' + '∞θ÷α•à−β∅³π‘₹´°£€\\×™√²—–&'\n",
    "    def clean_special_chars(text, punct):\n",
    "        for p in punct:\n",
    "            text = text.replace(p, ' ')\n",
    "        return text\n",
    "\n",
    "    return data.apply(lambda x: clean_special_chars(x, punct))\n",
    "\n",
    "train['comment_text'] = remove_punctuation(train['comment_text'])\n",
    "X_test = remove_punctuation(X_test)"
   ]
  },
  {
   "cell_type": "code",
   "execution_count": 7,
   "metadata": {
    "_kg_hide-input": true,
    "_kg_hide-output": true
   },
   "outputs": [],
   "source": [
    "# Clean contractions\n",
    "def clean_contractions(text):\n",
    "    specials = [\"’\", \"‘\", \"´\", \"`\"]\n",
    "    for s in specials:\n",
    "        text = text.replace(s, \"'\")\n",
    "    return text\n",
    "\n",
    "train['comment_text'] = train['comment_text'].apply(lambda x: clean_contractions(x))\n",
    "X_test = X_test.apply(lambda x: clean_contractions(x))"
   ]
  },
  {
   "cell_type": "code",
   "execution_count": 8,
   "metadata": {
    "_kg_hide-input": true,
    "_kg_hide-output": true
   },
   "outputs": [],
   "source": [
    "# Mapping contraction\n",
    "def map_contraction(data):\n",
    "    contraction_mapping = {\"trump's\": 'trump is', \"'cause\": 'because', ',cause': 'because', ';cause': 'because', \"ain't\": 'am not', 'ain,t': 'am not', 'ain;t': 'am not', \n",
    "                           'ain´t': 'am not', 'ain’t': 'am not', \"aren't\": 'are not', 'aren,t': 'are not', 'aren;t': 'are not', 'aren´t': 'are not', 'aren’t': 'are not', \n",
    "                           \"can't\": 'cannot', \"can't've\": 'cannot have', 'can,t': 'cannot', 'can,t,ve': 'cannot have', 'can;t': 'cannot', 'can;t;ve': 'cannot have', \n",
    "                           'can´t': 'cannot', 'can´t´ve': 'cannot have', 'can’t': 'cannot', 'can’t’ve': 'cannot have', \"could've\": 'could have', 'could,ve': 'could have', \n",
    "                           'could;ve': 'could have', \"couldn't\": 'could not', \"couldn't've\": 'could not have', 'couldn,t': 'could not', 'couldn,t,ve': 'could not have', \n",
    "                           'couldn;t': 'could not', 'couldn;t;ve': 'could not have', 'couldn´t': 'could not', 'couldn´t´ve': 'could not have', 'couldn’t': 'could not', \n",
    "                           'couldn’t’ve': 'could not have', 'could´ve': 'could have', 'could’ve': 'could have', \"didn't\": 'did not', 'didn,t': 'did not', 'didn;t': 'did not', \n",
    "                           'didn´t': 'did not', 'didn’t': 'did not', \"doesn't\": 'does not', 'doesn,t': 'does not', 'doesn;t': 'does not', 'doesn´t': 'does not', 'doesn’t': 'does not', \n",
    "                           \"don't\": 'do not', 'don,t': 'do not', 'don;t': 'do not', 'don´t': 'do not', 'don’t': 'do not', \"hadn't\": 'had not', \"hadn't've\": 'had not have', \n",
    "                           'hadn,t': 'had not', 'hadn,t,ve': 'had not have', 'hadn;t': 'had not', 'hadn;t;ve': 'had not have', 'hadn´t': 'had not', 'hadn´t´ve': 'had not have', \n",
    "                           'hadn’t': 'had not', 'hadn’t’ve': 'had not have', \"hasn't\": 'has not', 'hasn,t': 'has not', 'hasn;t': 'has not', 'hasn´t': 'has not', 'hasn’t': 'has not', \n",
    "                           \"haven't\": 'have not', 'haven,t': 'have not', 'haven;t': 'have not', 'haven´t': 'have not', 'haven’t': 'have not', \"he'd\": 'he would', \"he'd've\": 'he would have', \n",
    "                           \"he'll\": 'he will', \"he's\": 'he is', 'he,d': 'he would', 'he,d,ve': 'he would have', 'he,ll': 'he will', 'he,s': 'he is', 'he;d': 'he would', \n",
    "                           'he;d;ve': 'he would have', 'he;ll': 'he will', 'he;s': 'he is', 'he´d': 'he would', 'he´d´ve': 'he would have', 'he´ll': 'he will', 'he´s': 'he is', \n",
    "                           'he’d': 'he would', 'he’d’ve': 'he would have', 'he’ll': 'he will', 'he’s': 'he is', \"how'd\": 'how did', \"how'll\": 'how will', \"how's\": 'how is', \n",
    "                           'how,d': 'how did', 'how,ll': 'how will', 'how,s': 'how is', 'how;d': 'how did', 'how;ll': 'how will', 'how;s': 'how is', 'how´d': 'how did', 'how´ll': \n",
    "                           'how will', 'how´s': 'how is', 'how’d': 'how did', 'how’ll': 'how will', 'how’s': 'how is', \"i'd\": 'i would', \"i'll\": 'i will', \"i'm\": 'i am', \"i've\": \n",
    "                           'i have', 'i,d': 'i would', 'i,ll': 'i will', 'i,m': 'i am', 'i,ve': 'i have', 'i;d': 'i would', 'i;ll': 'i will', 'i;m': 'i am', 'i;ve': 'i have', \n",
    "                           \"isn't\": 'is not', 'isn,t': 'is not', 'isn;t': 'is not', 'isn´t': 'is not', 'isn’t': 'is not', \"it'd\": 'it would', \"it'll\": 'it will', \"it's\": 'it is', \n",
    "                           'it,d': 'it would', 'it,ll': 'it will', 'it,s': 'it is', 'it;d': 'it would', 'it;ll': 'it will', 'it;s': 'it is', 'it´d': 'it would', 'it´ll': 'it will', \n",
    "                           'it´s': 'it is', 'it’d': 'it would', 'it’ll': 'it will', 'it’s': 'it is', 'i´d': 'i would', 'i´ll': 'i will', 'i´m': 'i am', 'i´ve': 'i have', 'i’d': 'i would', \n",
    "                           'i’ll': 'i will', 'i’m': 'i am', 'i’ve': 'i have', \"let's\": 'let us', 'let,s': 'let us', 'let;s': 'let us', 'let´s': 'let us', 'let’s': 'let us', \"ma'am\": 'madam', \n",
    "                           'ma,am': 'madam', 'ma;am': 'madam', \"mayn't\": 'may not', 'mayn,t': 'may not', 'mayn;t': 'may not', 'mayn´t': 'may not', 'mayn’t': 'may not', 'ma´am': 'madam', \n",
    "                           'ma’am': 'madam', \"might've\": 'might have', 'might,ve': 'might have', 'might;ve': 'might have', \"mightn't\": 'might not', 'mightn,t': 'might not', \n",
    "                           'mightn;t': 'might not', 'mightn´t': 'might not', 'mightn’t': 'might not', 'might´ve': 'might have', 'might’ve': 'might have', \"must've\": 'must have', \n",
    "                           'must,ve': 'must have', 'must;ve': 'must have', \"mustn't\": 'must not', 'mustn,t': 'must not', 'mustn;t': 'must not', 'mustn´t': 'must not', \n",
    "                           'mustn’t': 'must not', 'must´ve': 'must have', 'must’ve': 'must have', \"needn't\": 'need not', 'needn,t': 'need not', 'needn;t': 'need not', 'needn´t': 'need not', \n",
    "                           'needn’t': 'need not', \"oughtn't\": 'ought not', 'oughtn,t': 'ought not', 'oughtn;t': 'ought not', 'oughtn´t': 'ought not', 'oughtn’t': 'ought not', \n",
    "                           \"sha'n't\": 'shall not', 'sha,n,t': 'shall not', 'sha;n;t': 'shall not', \"shan't\": 'shall not', 'shan,t': 'shall not', 'shan;t': 'shall not', 'shan´t': 'shall not', \n",
    "                           'shan’t': 'shall not', 'sha´n´t': 'shall not', 'sha’n’t': 'shall not', \"she'd\": 'she would', \"she'll\": 'she will', \"she's\": 'she is', 'she,d': 'she would', \n",
    "                           'she,ll': 'she will', 'she,s': 'she is', 'she;d': 'she would', 'she;ll': 'she will', 'she;s': 'she is', 'she´d': 'she would', 'she´ll': 'she will', \n",
    "                           'she´s': 'she is', 'she’d': 'she would', 'she’ll': 'she will', 'she’s': 'she is', \"should've\": 'should have', 'should,ve': 'should have', \n",
    "                           'should;ve': 'should have', \"shouldn't\": 'should not', 'shouldn,t': 'should not', 'shouldn;t': 'should not', 'shouldn´t': 'should not', 'shouldn’t': 'should not', \n",
    "                           'should´ve': 'should have', 'should’ve': 'should have', \"that'd\": 'that would', \"that's\": 'that is', 'that,d': 'that would', 'that,s': 'that is', \n",
    "                           'that;d': 'that would', 'that;s': 'that is', 'that´d': 'that would', 'that´s': 'that is', 'that’d': 'that would', 'that’s': 'that is', \"there'd\": 'there had', \n",
    "                           \"there's\": 'there is', 'there,d': 'there had', 'there,s': 'there is', 'there;d': 'there had', 'there;s': 'there is', 'there´d': 'there had', 'there´s': 'there is', \n",
    "                           'there’d': 'there had', 'there’s': 'there is', \"they'd\": 'they would', \"they'll\": 'they will', \"they're\": 'they are', \"they've\": 'they have', \n",
    "                           'they,d': 'they would', 'they,ll': 'they will', 'they,re': 'they are', 'they,ve': 'they have', 'they;d': 'they would', 'they;ll': 'they will', \n",
    "                           'they;re': 'they are', 'they;ve': 'they have', 'they´d': 'they would', 'they´ll': 'they will', 'they´re': 'they are', 'they´ve': 'they have', \n",
    "                           'they’d': 'they would', 'they’ll': 'they will', 'they’re': 'they are', 'they’ve': 'they have', \"wasn't\": 'was not', 'wasn,t': 'was not', 'wasn;t': 'was not', \n",
    "                           'wasn´t': 'was not', 'wasn’t': 'was not', \"we'd\": 'we would', \"we'll\": 'we will', \"we're\": 'we are', \"we've\": 'we have', 'we,d': 'we would', 'we,ll': 'we will', \n",
    "                           'we,re': 'we are', 'we,ve': 'we have', 'we;d': 'we would', 'we;ll': 'we will', 'we;re': 'we are', 'we;ve': 'we have', \"weren't\": 'were not', 'weren,t': 'were not', \n",
    "                           'weren;t': 'were not', 'weren´t': 'were not', 'weren’t': 'were not', 'we´d': 'we would', 'we´ll': 'we will', 'we´re': 'we are', 'we´ve': 'we have', \n",
    "                           'we’d': 'we would', 'we’ll': 'we will', 'we’re': 'we are', 'we’ve': 'we have', \"what'll\": 'what will', \"what're\": 'what are', \"what's\": 'what is', \n",
    "                           \"what've\": 'what have', 'what,ll': 'what will', 'what,re': 'what are', 'what,s': 'what is', 'what,ve': 'what have', 'what;ll': 'what will', 'what;re': 'what are', \n",
    "                           'what;s': 'what is', 'what;ve': 'what have', 'what´ll': 'what will', 'what´re': 'what are', 'what´s': 'what is', 'what´ve': 'what have', 'what’ll': 'what will', \n",
    "                           'what’re': 'what are', 'what’s': 'what is', 'what’ve': 'what have', \"where'd\": 'where did', \"where's\": 'where is', 'where,d': 'where did', 'where,s': 'where is', \n",
    "                           'where;d': 'where did', 'where;s': 'where is', 'where´d': 'where did', 'where´s': 'where is', 'where’d': 'where did', 'where’s': 'where is', \"who'll\": 'who will', \n",
    "                           \"who's\": 'who is', 'who,ll': 'who will', 'who,s': 'who is', 'who;ll': 'who will', 'who;s': 'who is', 'who´ll': 'who will', 'who´s': 'who is', 'who’ll': 'who will', \n",
    "                           'who’s': 'who is', \"won't\": 'will not', 'won,t': 'will not', 'won;t': 'will not', 'won´t': 'will not', 'won’t': 'will not', \"wouldn't\": 'would not', \n",
    "                           'wouldn,t': 'would not', 'wouldn;t': 'would not', 'wouldn´t': 'would not', 'wouldn’t': 'would not', \"you'd\": 'you would', \"you'll\": 'you will', \n",
    "                           \"you're\": 'you are', 'you,d': 'you would', 'you,ll': 'you will', 'you,re': 'you are', 'you;d': 'you would', 'you;ll': 'you will', 'you;re': 'you are', \n",
    "                           'you´d': 'you would', 'you´ll': 'you will', 'you´re': 'you are', 'you’d': 'you would', 'you’ll': 'you will', 'you’re': 'you are', '´cause': 'because', \n",
    "                           '’cause': 'because', \"you've\": 'you have', \"could'nt\": 'could not', \"havn't\": 'have not', 'here’s': 'here is', 'i\"\"m': 'i am', \"i'am\": 'i am', \"i'l\": 'i will', \n",
    "                           \"i'v\": 'i have', \"wan't\": 'want', \"was'nt\": 'was not', \"who'd\": 'who would', \"who're\": 'who are', \"who've\": 'who have', \"why'd\": 'why would', \n",
    "                           \"would've\": 'would have', \"y'all\": 'you all', \"y'know\": 'you know', 'you.i': 'you i', \"your'e\": 'you are', \"arn't\": 'are not', \"agains't\": 'against', \n",
    "                           \"c'mon\": 'common', \"doens't\": 'does not', 'don\"\"t': 'do not', \"dosen't\": 'does not', \"dosn't\": 'does not', \"shoudn't\": 'should not', \"that'll\": 'that will', \n",
    "                           \"there'll\": 'there will', \"there're\": 'there are', \"this'll\": 'this all', \"u're\": 'you are', \"ya'll\": 'you all', \"you'r\": 'you are', 'you’ve': 'you have', \n",
    "                           \"d'int\": 'did not', \"did'nt\": 'did not', \"din't\": 'did not', \"dont't\": 'do not', \"gov't\": 'government', \"i'ma\": 'i am', \"is'nt\": 'is not', '‘i': 'i', \n",
    "                           'ᴀɴᴅ': 'and', 'ᴛʜᴇ': 'the', 'ʜᴏᴍᴇ': 'home', 'ᴜᴘ': 'up', 'ʙʏ': 'by', 'ᴀᴛ': 'at', '…and': 'and', 'civilbeat': 'civil beat', 'trumpcare': 'trump care', \n",
    "                           'obamacare': 'obama care', 'ᴄʜᴇᴄᴋ': 'check', 'ғᴏʀ': 'for', 'ᴛʜɪs': 'this', 'ᴄᴏᴍᴘᴜᴛᴇʀ': 'computer', 'ᴍᴏɴᴛʜ': 'month', 'ᴡᴏʀᴋɪɴɢ': 'working', 'ᴊᴏʙ': 'job', \n",
    "                           'ғʀᴏᴍ': 'from', 'sᴛᴀʀᴛ': 'start', 'gubmit': 'submit', 'co₂': 'carbon dioxide', 'ғɪʀsᴛ': 'first', 'ᴇɴᴅ': 'end', 'ᴄᴀɴ': 'can', 'ʜᴀᴠᴇ': 'have', 'ᴛᴏ': 'to', \n",
    "                           'ʟɪɴᴋ': 'link', 'ᴏғ': 'of', 'ʜᴏᴜʀʟʏ': 'hourly', 'ᴡᴇᴇᴋ': 'week', 'ᴇxᴛʀᴀ': 'extra', 'gʀᴇᴀᴛ': 'great', 'sᴛᴜᴅᴇɴᴛs': 'student', 'sᴛᴀʏ': 'stay', 'ᴍᴏᴍs': 'mother', \n",
    "                           'ᴏʀ': 'or', 'ᴀɴʏᴏɴᴇ': 'anyone', 'ɴᴇᴇᴅɪɴɢ': 'needing', 'ᴀɴ': 'an', 'ɪɴᴄᴏᴍᴇ': 'income', 'ʀᴇʟɪᴀʙʟᴇ': 'reliable', 'ʏᴏᴜʀ': 'your', 'sɪɢɴɪɴɢ': 'signing', \n",
    "                           'ʙᴏᴛᴛᴏᴍ': 'bottom', 'ғᴏʟʟᴏᴡɪɴɢ': 'following', 'mᴀᴋᴇ': 'make', 'ᴄᴏɴɴᴇᴄᴛɪᴏɴ': 'connection', 'ɪɴᴛᴇʀɴᴇᴛ': 'internet', 'financialpost': 'financial post', \n",
    "                           'ʜaᴠᴇ': ' have ', 'ᴄaɴ': ' can ', 'maᴋᴇ': ' make ', 'ʀᴇʟɪaʙʟᴇ': ' reliable ', 'ɴᴇᴇᴅ': ' need ', 'ᴏɴʟʏ': ' only ', 'ᴇxᴛʀa': ' extra ', 'aɴ': ' an ', \n",
    "                           'aɴʏᴏɴᴇ': ' anyone ', 'sᴛaʏ': ' stay ', 'sᴛaʀᴛ': ' start', 'shopo': 'shop'}\n",
    "    def clean_special_chars(text, mapping):\n",
    "        for p in mapping:\n",
    "            text = text.replace(p, mapping[p])  \n",
    "        return text\n",
    "\n",
    "    return data.apply(lambda x: clean_special_chars(x, contraction_mapping))\n",
    "\n",
    "train['comment_text'] = map_contraction(train['comment_text'])\n",
    "X_test = map_contraction(X_test)"
   ]
  },
  {
   "cell_type": "code",
   "execution_count": 9,
   "metadata": {
    "_kg_hide-input": true,
    "_kg_hide-output": true
   },
   "outputs": [],
   "source": [
    "# Mapping misspelling\n",
    "def map_misspelling(data):\n",
    "    misspelling_mapping = {'sb91': 'senate bill', 'trump': 'trump', 'utmterm': 'utm term', 'fakenews': 'fake news', 'gʀᴇat': 'great', 'ʙᴏᴛtoᴍ': 'bottom', \n",
    "                           'washingtontimes': 'washington times', 'garycrum': 'gary crum', 'htmlutmterm': 'html utm term', 'rangermc': 'car', 'tfws': 'tuition fee waiver', \n",
    "                           'sjws': 'social justice warrior', 'koncerned': 'concerned', 'vinis': 'vinys', 'yᴏᴜ': 'you', 'trumpsters': 'trump', 'trumpian': 'trump', 'bigly': 'big league', \n",
    "                           'trumpism': 'trump', 'yoyou': 'you', 'auwe': 'wonder', 'drumpf': 'trump', 'brexit': 'british exit', 'utilitas': 'utilities', 'ᴀ': 'a', '😉': 'wink', \n",
    "                           '😂': 'joy', '😀': 'stuck out tongue', 'theguardian': 'the guardian', 'deplorables': 'deplorable', 'theglobeandmail': 'the globe and mail', \n",
    "                           'justiciaries': 'justiciary', 'creditdation': 'accreditation', 'doctrne': 'doctrine', 'fentayal': 'fentanyl', 'designation-': 'designation', \n",
    "                           'conartist': 'con-artist', 'mutilitated': 'mutilated', 'obumblers': 'bumblers', 'negotiatiations': 'negotiations', 'dood-': 'dood', 'irakis': 'iraki', \n",
    "                           'cooerate': 'cooperate', 'cox': 'cox', 'racistcomments': 'racist comments', 'envirnmetalists': 'environmentalists'}\n",
    "    def clean_special_chars(text, mapping):\n",
    "        for p in mapping:\n",
    "            text = text.replace(p, mapping[p])  \n",
    "        return text\n",
    "\n",
    "    return data.apply(lambda x: clean_special_chars(x, misspelling_mapping))\n",
    "\n",
    "train['comment_text'] = map_misspelling(train['comment_text'])\n",
    "X_test = map_misspelling(X_test)"
   ]
  },
  {
   "cell_type": "code",
   "execution_count": 10,
   "metadata": {
    "_kg_hide-input": true
   },
   "outputs": [],
   "source": [
    "# Train/validation split\n",
    "train_ids, val_ids = train_test_split(train['id'], test_size=0.2, random_state=2019)\n",
    "\n",
    "train_df = pd.merge(train_ids.to_frame(), train)\n",
    "validate_df = pd.merge(val_ids.to_frame(), train)\n",
    "Y_train = train_df['target'].values\n",
    "Y_val = validate_df['target'].values\n",
    "X_train = train_df['comment_text']\n",
    "X_val = validate_df['comment_text']"
   ]
  },
  {
   "cell_type": "code",
   "execution_count": 11,
   "metadata": {},
   "outputs": [],
   "source": [
    "# Hyper parameters\n",
    "maxlen = 220 # max number of words in a question to use\n",
    "embed_size = 250 # how big is each word vector\n",
    "max_features = 410047 # how many unique words to use (i.e num rows in embedding vector)\n",
    "learning_rate = 0.001\n",
    "epochs = 15\n",
    "batch_size = 512\n",
    "es_patience = 3\n",
    "rlr_patience = 2\n",
    "decay_factor = 0.25"
   ]
  },
  {
   "cell_type": "code",
   "execution_count": 12,
   "metadata": {
    "_kg_hide-input": true
   },
   "outputs": [],
   "source": [
    "# Fill missing values\n",
    "X_train = X_train.fillna(\"_na_\").values\n",
    "X_val = X_val.fillna(\"_na_\").values\n",
    "X_test = X_test.fillna(\"_na_\").values"
   ]
  },
  {
   "cell_type": "code",
   "execution_count": 13,
   "metadata": {
    "_kg_hide-input": true
   },
   "outputs": [],
   "source": [
    "# Tokenize the sentences\n",
    "tokenizer = Tokenizer(num_words=max_features)\n",
    "tokenizer.fit_on_texts(list(X_train))\n",
    "\n",
    "X_train = tokenizer.texts_to_sequences(X_train)\n",
    "X_val = tokenizer.texts_to_sequences(X_val)\n",
    "X_test = tokenizer.texts_to_sequences(X_test)"
   ]
  },
  {
   "cell_type": "code",
   "execution_count": 14,
   "metadata": {
    "_kg_hide-input": true
   },
   "outputs": [],
   "source": [
    "# Pad the sentences \n",
    "X_train = pad_sequences(X_train, maxlen=maxlen)\n",
    "X_val = pad_sequences(X_val, maxlen=maxlen)\n",
    "X_test = pad_sequences(X_test, maxlen=maxlen)"
   ]
  },
  {
   "cell_type": "markdown",
   "metadata": {},
   "source": [
    "# Loading Embedding"
   ]
  },
  {
   "cell_type": "code",
   "execution_count": 15,
   "metadata": {
    "_kg_hide-input": true,
    "_kg_hide-output": true
   },
   "outputs": [
    {
     "name": "stdout",
     "output_type": "stream",
     "text": [
      "n unknown words (GloVe):  117166\n",
      "n unknown words (Crawl):  116009\n"
     ]
    },
    {
     "data": {
      "text/plain": [
       "3"
      ]
     },
     "execution_count": 15,
     "metadata": {},
     "output_type": "execute_result"
    }
   ],
   "source": [
    "def get_coefs(word, *arr):\n",
    "    return word, np.asarray(arr, dtype='float32')\n",
    "\n",
    "def load_embeddings(path):\n",
    "    emb_arr = KeyedVectors.load(path)\n",
    "    return emb_arr\n",
    "\n",
    "def build_matrix(word_index, path):\n",
    "    embedding_index = load_embeddings(path)\n",
    "    embedding_matrix = np.zeros((len(word_index) + 1, 300))\n",
    "    unknown_words = []\n",
    "    \n",
    "    for word, i in word_index.items():\n",
    "        if i <= max_features:\n",
    "            try:\n",
    "                embedding_matrix[i] = embedding_index[word]\n",
    "            except KeyError:\n",
    "                try:\n",
    "                    embedding_matrix[i] = embedding_index[word.lower()]\n",
    "                except KeyError:\n",
    "                    try:\n",
    "                        embedding_matrix[i] = embedding_index[word.title()]\n",
    "                    except KeyError:\n",
    "                        unknown_words.append(word)\n",
    "    return embedding_matrix, unknown_words\n",
    "\n",
    "\n",
    "glove_path = '../input/gensim-embeddings-dataset/glove.840B.300d.gensim'\n",
    "craw_path = '../input/gensim-embeddings-dataset/crawl-300d-2M.gensim'\n",
    "\n",
    "glove_embedding_matrix, glove_unknown_words = build_matrix(tokenizer.word_index, glove_path)\n",
    "print('n unknown words (GloVe): ', len(glove_unknown_words))\n",
    "\n",
    "craw_embedding_matrix, craw_unknown_words = build_matrix(tokenizer.word_index, craw_path)\n",
    "print('n unknown words (Crawl): ', len(craw_unknown_words))\n",
    "\n",
    "embedding_matrix = np.concatenate([glove_embedding_matrix, craw_embedding_matrix], axis=-1)\n",
    "\n",
    "del glove_embedding_matrix, craw_embedding_matrix\n",
    "gc.collect()"
   ]
  },
  {
   "cell_type": "markdown",
   "metadata": {},
   "source": [
    "# Model"
   ]
  },
  {
   "cell_type": "code",
   "execution_count": 16,
   "metadata": {
    "_kg_hide-output": true
   },
   "outputs": [
    {
     "name": "stdout",
     "output_type": "stream",
     "text": [
      "_________________________________________________________________\n",
      "Layer (type)                 Output Shape              Param #   \n",
      "=================================================================\n",
      "input_1 (InputLayer)         (None, 220)               0         \n",
      "_________________________________________________________________\n",
      "embedding_1 (Embedding)      (None, 220, 600)          169800000 \n",
      "_________________________________________________________________\n",
      "spatial_dropout1d_1 (Spatial (None, 220, 600)          0         \n",
      "_________________________________________________________________\n",
      "bidirectional_1 (Bidirection (None, 220, 256)          560640    \n",
      "_________________________________________________________________\n",
      "bidirectional_2 (Bidirection (None, 220, 512)          789504    \n",
      "_________________________________________________________________\n",
      "global_average_pooling1d_1 ( (None, 512)               0         \n",
      "_________________________________________________________________\n",
      "dense_1 (Dense)              (None, 512)               262656    \n",
      "_________________________________________________________________\n",
      "dense_2 (Dense)              (None, 512)               262656    \n",
      "_________________________________________________________________\n",
      "dense_3 (Dense)              (None, 1)                 513       \n",
      "=================================================================\n",
      "Total params: 171,675,969\n",
      "Trainable params: 1,875,969\n",
      "Non-trainable params: 169,800,000\n",
      "_________________________________________________________________\n"
     ]
    }
   ],
   "source": [
    "inp = Input(shape=(maxlen,))\n",
    "x = Embedding(*embedding_matrix.shape, weights=[embedding_matrix], trainable=False)(inp)\n",
    "x = SpatialDropout1D(0.3)(x)\n",
    "x = Bidirectional(CuDNNGRU(128, return_sequences=True))(x)\n",
    "x = Bidirectional(CuDNNGRU(256, return_sequences=True))(x)\n",
    "x = GlobalAveragePooling1D()(x)\n",
    "# x = GlobalMaxPool1D()(x)\n",
    "x = Dense(512, activation=\"relu\")(x)\n",
    "x = Dense(512, activation=\"relu\")(x)\n",
    "x = Dense(1, activation=\"sigmoid\")(x)\n",
    "\n",
    "model = Model(inputs=inp, outputs=x)\n",
    "optimizer = optimizers.Adam(lr=learning_rate)\n",
    "model.compile(loss='binary_crossentropy', optimizer=optimizer, metrics=['accuracy'])\n",
    "model.summary()"
   ]
  },
  {
   "cell_type": "code",
   "execution_count": 17,
   "metadata": {
    "_kg_hide-input": true,
    "_kg_hide-output": true
   },
   "outputs": [
    {
     "name": "stdout",
     "output_type": "stream",
     "text": [
      "Train on 1443899 samples, validate on 360975 samples\n",
      "Epoch 1/15\n",
      "1443899/1443899 [==============================] - 731s 506us/step - loss: 0.1372 - acc: 0.9468 - val_loss: 0.1228 - val_acc: 0.9517\n",
      "Epoch 2/15\n",
      "1340416/1443899 [==========================>...] - ETA: 47s - loss: 0.1204 - acc: 0.9519"
     ]
    }
   ],
   "source": [
    "es = EarlyStopping(monitor='val_loss', mode='min', patience=es_patience, restore_best_weights=True, verbose=1)\n",
    "rlrop = ReduceLROnPlateau(monitor='val_loss', mode='min', patience=rlr_patience, factor=decay_factor, min_lr=1e-6, verbose=1)\n",
    "history = model.fit(X_train, Y_train, batch_size=batch_size, epochs=epochs, validation_data=(X_val, Y_val), callbacks=[es, rlrop])"
   ]
  },
  {
   "cell_type": "code",
   "execution_count": 18,
   "metadata": {
    "_kg_hide-input": true
   },
   "outputs": [
    {
     "data": {
      "image/png": "[encoded data removed]",
      "text/plain": [
       "<Figure size 1440x576 with 2 Axes>"
      ]
     },
     "metadata": {
      "needs_background": "light"
     },
     "output_type": "display_data"
    }
   ],
   "source": [
    "fig, (ax1, ax2) = plt.subplots(2, 1, figsize=(20, 8))\n",
    "\n",
    "ax1.plot(history.history['acc'], label='Train Accuracy')\n",
    "ax1.plot(history.history['val_acc'], label='Validation accuracy')\n",
    "ax1.legend(loc='best')\n",
    "ax1.set_title('Accuracy')\n",
    "\n",
    "ax2.plot(history.history['loss'], label='Train loss')\n",
    "ax2.plot(history.history['val_loss'], label='Validation loss')\n",
    "ax2.legend(loc='best')\n",
    "ax2.set_title('Loss')\n",
    "\n",
    "plt.xlabel('Epochs')\n",
    "sns.despine()\n",
    "plt.show()"
   ]
  },
  {
   "cell_type": "markdown",
   "metadata": {},
   "source": [
    "# Model evaluation"
   ]
  },
  {
   "cell_type": "code",
   "execution_count": 19,
   "metadata": {
    "_kg_hide-input": true
   },
   "outputs": [
    {
     "name": "stdout",
     "output_type": "stream",
     "text": [
      "Validation bias metric by group\n"
     ]
    },
    {
     "data": {
      "text/html": [
       "<div>\n",
       "<style scoped>\n",
       "    .dataframe tbody tr th:only-of-type {\n",
       "        vertical-align: middle;\n",
       "    }\n",
       "\n",
       "    .dataframe tbody tr th {\n",
       "        vertical-align: top;\n",
       "    }\n",
       "\n",
       "    .dataframe thead th {\n",
       "        text-align: right;\n",
       "    }\n",
       "</style>\n",
       "<table border=\"1\" class=\"dataframe\">\n",
       "  <thead>\n",
       "    <tr style=\"text-align: right;\">\n",
       "      <th></th>\n",
       "      <th>bnsp_auc</th>\n",
       "      <th>bpsn_auc</th>\n",
       "      <th>subgroup</th>\n",
       "      <th>subgroup_auc</th>\n",
       "      <th>subgroup_size</th>\n",
       "    </tr>\n",
       "  </thead>\n",
       "  <tbody>\n",
       "    <tr>\n",
       "      <th>6</th>\n",
       "      <td>0.9758</td>\n",
       "      <td>0.8205</td>\n",
       "      <td>black</td>\n",
       "      <td>0.8460</td>\n",
       "      <td>2952</td>\n",
       "    </tr>\n",
       "    <tr>\n",
       "      <th>7</th>\n",
       "      <td>0.9746</td>\n",
       "      <td>0.8327</td>\n",
       "      <td>white</td>\n",
       "      <td>0.8488</td>\n",
       "      <td>5065</td>\n",
       "    </tr>\n",
       "    <tr>\n",
       "      <th>2</th>\n",
       "      <td>0.9746</td>\n",
       "      <td>0.8356</td>\n",
       "      <td>homosexual_gay_or_lesbian</td>\n",
       "      <td>0.8535</td>\n",
       "      <td>2161</td>\n",
       "    </tr>\n",
       "    <tr>\n",
       "      <th>5</th>\n",
       "      <td>0.9710</td>\n",
       "      <td>0.8700</td>\n",
       "      <td>muslim</td>\n",
       "      <td>0.8742</td>\n",
       "      <td>4181</td>\n",
       "    </tr>\n",
       "    <tr>\n",
       "      <th>4</th>\n",
       "      <td>0.9671</td>\n",
       "      <td>0.9018</td>\n",
       "      <td>jewish</td>\n",
       "      <td>0.8980</td>\n",
       "      <td>1521</td>\n",
       "    </tr>\n",
       "    <tr>\n",
       "      <th>8</th>\n",
       "      <td>0.9764</td>\n",
       "      <td>0.8948</td>\n",
       "      <td>psychiatric_or_mental_illness</td>\n",
       "      <td>0.9186</td>\n",
       "      <td>1011</td>\n",
       "    </tr>\n",
       "    <tr>\n",
       "      <th>1</th>\n",
       "      <td>0.9677</td>\n",
       "      <td>0.9292</td>\n",
       "      <td>female</td>\n",
       "      <td>0.9285</td>\n",
       "      <td>10649</td>\n",
       "    </tr>\n",
       "    <tr>\n",
       "      <th>0</th>\n",
       "      <td>0.9710</td>\n",
       "      <td>0.9233</td>\n",
       "      <td>male</td>\n",
       "      <td>0.9299</td>\n",
       "      <td>8848</td>\n",
       "    </tr>\n",
       "    <tr>\n",
       "      <th>3</th>\n",
       "      <td>0.9597</td>\n",
       "      <td>0.9497</td>\n",
       "      <td>christian</td>\n",
       "      <td>0.9394</td>\n",
       "      <td>8065</td>\n",
       "    </tr>\n",
       "  </tbody>\n",
       "</table>\n",
       "</div>"
      ],
      "text/plain": [
       "   bnsp_auc  bpsn_auc      ...       subgroup_auc  subgroup_size\n",
       "6    0.9758    0.8205      ...             0.8460           2952\n",
       "7    0.9746    0.8327      ...             0.8488           5065\n",
       "2    0.9746    0.8356      ...             0.8535           2161\n",
       "5    0.9710    0.8700      ...             0.8742           4181\n",
       "4    0.9671    0.9018      ...             0.8980           1521\n",
       "8    0.9764    0.8948      ...             0.9186           1011\n",
       "1    0.9677    0.9292      ...             0.9285          10649\n",
       "0    0.9710    0.9233      ...             0.9299           8848\n",
       "3    0.9597    0.9497      ...             0.9394           8065\n",
       "\n",
       "[9 rows x 5 columns]"
      ]
     },
     "metadata": {},
     "output_type": "display_data"
    }
   ],
   "source": [
    "identity_columns = [\n",
    "    'male', 'female', 'homosexual_gay_or_lesbian', 'christian', 'jewish',\n",
    "    'muslim', 'black', 'white', 'psychiatric_or_mental_illness']\n",
    "\n",
    "# Convert taget and identity columns to booleans\n",
    "def convert_to_bool(df, col_name):\n",
    "    df[col_name] = np.where(df[col_name] >= 0.5, True, False)\n",
    "    \n",
    "def convert_dataframe_to_bool(df):\n",
    "    bool_df = df.copy()\n",
    "    for col in ['target'] + identity_columns:\n",
    "        convert_to_bool(bool_df, col)\n",
    "    return bool_df\n",
    "\n",
    "SUBGROUP_AUC = 'subgroup_auc'\n",
    "BPSN_AUC = 'bpsn_auc'  # stands for background positive, subgroup negative\n",
    "BNSP_AUC = 'bnsp_auc'  # stands for background negative, subgroup positive\n",
    "\n",
    "def compute_auc(y_true, y_pred):\n",
    "    try:\n",
    "        return metrics.roc_auc_score(y_true, y_pred)\n",
    "    except ValueError:\n",
    "        return np.nan\n",
    "\n",
    "def compute_subgroup_auc(df, subgroup, label, model_name):\n",
    "    subgroup_examples = df[df[subgroup]]\n",
    "    return compute_auc(subgroup_examples[label], subgroup_examples[model_name])\n",
    "\n",
    "def compute_bpsn_auc(df, subgroup, label, model_name):\n",
    "    \"\"\"Computes the AUC of the within-subgroup negative examples and the background positive examples.\"\"\"\n",
    "    subgroup_negative_examples = df[df[subgroup] & ~df[label]]\n",
    "    non_subgroup_positive_examples = df[~df[subgroup] & df[label]]\n",
    "    examples = subgroup_negative_examples.append(non_subgroup_positive_examples)\n",
    "    return compute_auc(examples[label], examples[model_name])\n",
    "\n",
    "def compute_bnsp_auc(df, subgroup, label, model_name):\n",
    "    \"\"\"Computes the AUC of the within-subgroup positive examples and the background negative examples.\"\"\"\n",
    "    subgroup_positive_examples = df[df[subgroup] & df[label]]\n",
    "    non_subgroup_negative_examples = df[~df[subgroup] & ~df[label]]\n",
    "    examples = subgroup_positive_examples.append(non_subgroup_negative_examples)\n",
    "    return compute_auc(examples[label], examples[model_name])\n",
    "\n",
    "def compute_bias_metrics_for_model(dataset, subgroups, model, label_col, include_asegs=False):\n",
    "    \"\"\"Computes per-subgroup metrics for all subgroups and one model.\"\"\"\n",
    "    records = []\n",
    "    for subgroup in subgroups:\n",
    "        record = {\n",
    "            'subgroup': subgroup,\n",
    "            'subgroup_size': len(dataset[dataset[subgroup]])\n",
    "        }\n",
    "        record[SUBGROUP_AUC] = compute_subgroup_auc(dataset, subgroup, label_col, model)\n",
    "        record[BPSN_AUC] = compute_bpsn_auc(dataset, subgroup, label_col, model)\n",
    "        record[BNSP_AUC] = compute_bnsp_auc(dataset, subgroup, label_col, model)\n",
    "        records.append(record)\n",
    "    return pd.DataFrame(records).sort_values('subgroup_auc', ascending=True)\n",
    "\n",
    "# validate_df = pd.merge(val_ids.to_frame(), train)\n",
    "validate_df['preds'] = model.predict(X_val)\n",
    "validate_df = convert_dataframe_to_bool(validate_df)\n",
    "\n",
    "bias_metrics_df = compute_bias_metrics_for_model(validate_df, identity_columns, 'preds', 'target')\n",
    "print('Validation bias metric by group')\n",
    "display(bias_metrics_df)"
   ]
  },
  {
   "cell_type": "code",
   "execution_count": 20,
   "metadata": {
    "_kg_hide-input": true
   },
   "outputs": [
    {
     "name": "stdout",
     "output_type": "stream",
     "text": [
      "Train ROC AUC: 0.9284\n",
      "Validation ROC AUC: 0.9257\n"
     ]
    }
   ],
   "source": [
    "def power_mean(series, p):\n",
    "    total = sum(np.power(series, p))\n",
    "    return np.power(total / len(series), 1 / p)\n",
    "\n",
    "def get_final_metric(bias_df, overall_auc, POWER=-5, OVERALL_MODEL_WEIGHT=0.25):\n",
    "    bias_score = np.average([\n",
    "        power_mean(bias_df[SUBGROUP_AUC], POWER),\n",
    "        power_mean(bias_df[BPSN_AUC], POWER),\n",
    "        power_mean(bias_df[BNSP_AUC], POWER)\n",
    "    ])\n",
    "    return (OVERALL_MODEL_WEIGHT * overall_auc) + ((1 - OVERALL_MODEL_WEIGHT) * bias_score)\n",
    "\n",
    "# train_df = pd.merge(train_ids.to_frame(), train)\n",
    "train_df['preds'] = model.predict(X_train)\n",
    "train_df = convert_dataframe_to_bool(train_df)\n",
    "\n",
    "print('Train ROC AUC: %.4f' % get_final_metric(bias_metrics_df, metrics.roc_auc_score(train_df['target'].values, train_df['preds'].values)))\n",
    "print('Validation ROC AUC: %.4f' % get_final_metric(bias_metrics_df, metrics.roc_auc_score(validate_df['target'].values, validate_df['preds'].values)))"
   ]
  },
  {
   "cell_type": "markdown",
   "metadata": {},
   "source": [
    "# Predictions"
   ]
  },
  {
   "cell_type": "code",
   "execution_count": 21,
   "metadata": {},
   "outputs": [],
   "source": [
    "Y_test = model.predict(X_test)"
   ]
  },
  {
   "cell_type": "code",
   "execution_count": 22,
   "metadata": {
    "_kg_hide-input": true
   },
   "outputs": [
    {
     "data": {
      "text/html": [
       "<div>\n",
       "<style scoped>\n",
       "    .dataframe tbody tr th:only-of-type {\n",
       "        vertical-align: middle;\n",
       "    }\n",
       "\n",
       "    .dataframe tbody tr th {\n",
       "        vertical-align: top;\n",
       "    }\n",
       "\n",
       "    .dataframe thead th {\n",
       "        text-align: right;\n",
       "    }\n",
       "</style>\n",
       "<table border=\"1\" class=\"dataframe\">\n",
       "  <thead>\n",
       "    <tr style=\"text-align: right;\">\n",
       "      <th></th>\n",
       "      <th>id</th>\n",
       "      <th>prediction</th>\n",
       "    </tr>\n",
       "  </thead>\n",
       "  <tbody>\n",
       "    <tr>\n",
       "      <th>0</th>\n",
       "      <td>7000000</td>\n",
       "      <td>0.0020</td>\n",
       "    </tr>\n",
       "    <tr>\n",
       "      <th>1</th>\n",
       "      <td>7000001</td>\n",
       "      <td>0.0000</td>\n",
       "    </tr>\n",
       "    <tr>\n",
       "      <th>2</th>\n",
       "      <td>7000002</td>\n",
       "      <td>0.0094</td>\n",
       "    </tr>\n",
       "    <tr>\n",
       "      <th>3</th>\n",
       "      <td>7000003</td>\n",
       "      <td>0.0001</td>\n",
       "    </tr>\n",
       "    <tr>\n",
       "      <th>4</th>\n",
       "      <td>7000004</td>\n",
       "      <td>0.9946</td>\n",
       "    </tr>\n",
       "    <tr>\n",
       "      <th>5</th>\n",
       "      <td>7000005</td>\n",
       "      <td>0.0001</td>\n",
       "    </tr>\n",
       "    <tr>\n",
       "      <th>6</th>\n",
       "      <td>7000006</td>\n",
       "      <td>0.0014</td>\n",
       "    </tr>\n",
       "    <tr>\n",
       "      <th>7</th>\n",
       "      <td>7000007</td>\n",
       "      <td>0.0049</td>\n",
       "    </tr>\n",
       "    <tr>\n",
       "      <th>8</th>\n",
       "      <td>7000008</td>\n",
       "      <td>0.0000</td>\n",
       "    </tr>\n",
       "    <tr>\n",
       "      <th>9</th>\n",
       "      <td>7000009</td>\n",
       "      <td>0.0004</td>\n",
       "    </tr>\n",
       "  </tbody>\n",
       "</table>\n",
       "</div>"
      ],
      "text/plain": [
       "        id  prediction\n",
       "0  7000000      0.0020\n",
       "1  7000001      0.0000\n",
       "2  7000002      0.0094\n",
       "3  7000003      0.0001\n",
       "4  7000004      0.9946\n",
       "5  7000005      0.0001\n",
       "6  7000006      0.0014\n",
       "7  7000007      0.0049\n",
       "8  7000008      0.0000\n",
       "9  7000009      0.0004"
      ]
     },
     "execution_count": 22,
     "metadata": {},
     "output_type": "execute_result"
    }
   ],
   "source": [
    "submission = pd.read_csv('../input/jigsaw-unintended-bias-in-toxicity-classification/sample_submission.csv')\n",
    "submission['prediction'] = Y_test\n",
    "submission.to_csv('submission.csv', index=False)\n",
    "submission.head(10)"
   ]
  }
 ],
 "metadata": {
  "kernelspec": {
   "display_name": "Python 3",
   "language": "python",
   "name": "python3"
  },
  "language_info": {
   "codemirror_mode": {
    "name": "ipython",
    "version": 3
   },
   "file_extension": ".py",
   "mimetype": "text/x-python",
   "name": "python",
   "nbconvert_exporter": "python",
   "pygments_lexer": "ipython3",
   "version": "3.6.6"
  }
 },
 "nbformat": 4,
 "nbformat_minor": 1
}
